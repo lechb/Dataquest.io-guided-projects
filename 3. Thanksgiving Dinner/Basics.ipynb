{
 "cells": [
  {
   "cell_type": "code",
   "execution_count": 1,
   "metadata": {
    "collapsed": true
   },
   "outputs": [],
   "source": [
    "import pandas as pd\n",
    "\n",
    "data = pd.read_csv('thanksgiving.csv', encoding ='Latin-1')\n",
    "\n",
    "#print(data.head(5))\n",
    "\n",
    "#print(data.columns)"
   ]
  },
  {
   "cell_type": "code",
   "execution_count": 2,
   "metadata": {
    "collapsed": true
   },
   "outputs": [],
   "source": [
    "#print(data['Do you celebrate Thanksgiving?'].value_counts(normalize = True))\n",
    "\n",
    "data = data[data['Do you celebrate Thanksgiving?'] == 'Yes']\n",
    "#print(data['Do you celebrate Thanksgiving?'].value_counts(normalize = True))\n"
   ]
  },
  {
   "cell_type": "code",
   "execution_count": 3,
   "metadata": {
    "collapsed": false
   },
   "outputs": [
    {
     "name": "stdout",
     "output_type": "stream",
     "text": [
      "Turkey                    0.881930\n",
      "Other (please specify)    0.035934\n",
      "Ham/Pork                  0.029774\n",
      "Tofurkey                  0.020534\n",
      "Chicken                   0.012320\n",
      "Roast beef                0.011294\n",
      "I don't know              0.005133\n",
      "Turducken                 0.003080\n",
      "Name: What is typically the main dish at your Thanksgiving dinner?, dtype: float64\n",
      "Yes    0.6\n",
      "No     0.4\n",
      "Name: Do you typically have gravy?, dtype: float64\n"
     ]
    }
   ],
   "source": [
    "print(data['What is typically the main dish at your Thanksgiving dinner?'].value_counts(normalize = True))\n",
    "\n",
    "print(data['Do you typically have gravy?'][data['What is typically the main dish at your Thanksgiving dinner?'] == 'Tofurkey'].value_counts(normalize = True))\n"
   ]
  },
  {
   "cell_type": "code",
   "execution_count": 4,
   "metadata": {
    "collapsed": false
   },
   "outputs": [
    {
     "name": "stdout",
     "output_type": "stream",
     "text": [
      "False    0.893878\n",
      "True     0.106122\n",
      "dtype: float64\n"
     ]
    }
   ],
   "source": [
    "apple_isnull = pd.isnull(data['Which type of pie is typically served at your Thanksgiving dinner? Please select all that apply. - Apple'])\n",
    "pumpkin_isnull = pd.isnull(data['Which type of pie is typically served at your Thanksgiving dinner? Please select all that apply. - Pumpkin'])\n",
    "pecan_isnull = pd.isnull(data['Which type of pie is typically served at your Thanksgiving dinner? Please select all that apply. - Pecan'])\n",
    "ate_pies = apple_isnull & pumpkin_isnull & pecan_isnull\n",
    "print(ate_pies.value_counts(normalize = True))"
   ]
  },
  {
   "cell_type": "code",
   "execution_count": 5,
   "metadata": {
    "collapsed": false
   },
   "outputs": [
    {
     "data": {
      "text/plain": [
       "array([ 18.,  30.,  60.,  45.,  nan])"
      ]
     },
     "execution_count": 5,
     "metadata": {},
     "output_type": "execute_result"
    }
   ],
   "source": [
    "def sage_to_iage(string):\n",
    "    if pd.isnull(string):\n",
    "        new_int = None\n",
    "    else:\n",
    "        string = string.replace('+', '')\n",
    "        new_list = string.split(' ')\n",
    "        new_int = int(new_list[0])\n",
    "    return new_int    \n",
    "data['int_age'] = data['Age'].apply(sage_to_iage)\n",
    "\n",
    "data['int_age'].unique()"
   ]
  },
  {
   "cell_type": "code",
   "execution_count": 6,
   "metadata": {
    "collapsed": false
   },
   "outputs": [
    {
     "data": {
      "text/plain": [
       "count    947.000000\n",
       "mean      40.089757\n",
       "std       15.352014\n",
       "min       18.000000\n",
       "25%       30.000000\n",
       "50%       45.000000\n",
       "75%       60.000000\n",
       "max       60.000000\n",
       "Name: int_age, dtype: float64"
      ]
     },
     "execution_count": 6,
     "metadata": {},
     "output_type": "execute_result"
    }
   ],
   "source": [
    "none_int_age = pd.isnull(data['int_age'])\n",
    "new_data = data[none_int_age==False]\n",
    "\n",
    "new_data['int_age'].describe()"
   ]
  },
  {
   "cell_type": "markdown",
   "metadata": {},
   "source": [
    "Is there anything that we should be aware of about the results or our methodology?\n",
    "Is this a true depiction of the ages of survey participants?\n"
   ]
  },
  {
   "cell_type": "code",
   "execution_count": 7,
   "metadata": {
    "collapsed": false
   },
   "outputs": [
    {
     "data": {
      "text/plain": [
       "count       829.000000\n",
       "mean      75965.018094\n",
       "std       59068.636748\n",
       "min           0.000000\n",
       "25%       25000.000000\n",
       "50%       75000.000000\n",
       "75%      100000.000000\n",
       "max      200000.000000\n",
       "Name: int_income, dtype: float64"
      ]
     },
     "execution_count": 7,
     "metadata": {},
     "output_type": "execute_result"
    }
   ],
   "source": [
    "def sincome_to_iincome(string):  \n",
    "    if pd.isnull(string):\n",
    "        new_int = None\n",
    "        return new_int\n",
    "    string = string.split(' ')\n",
    "    if string[0] == 'Prefer':\n",
    "        new_int = None\n",
    "        return new_int\n",
    "    else:\n",
    "        string[0] = string[0].replace('$', '')\n",
    "        string[0] = string[0].replace(',','')\n",
    "        new_int = int(string[0])\n",
    "        return new_int    \n",
    "\n",
    "data['int_income'] = data['How much total combined money did all members of your HOUSEHOLD earn last year?'].apply(sincome_to_iincome)\n",
    "\n",
    "none_int_income = pd.isnull(data['int_income'])\n",
    "new_data = data[none_int_income==False]\n",
    "new_data['int_income'].describe()"
   ]
  },
  {
   "cell_type": "markdown",
   "metadata": {},
   "source": [
    "Is there anything that we should be aware of about the results or our methodology?\n",
    "Is this a true depiction of the incomes of survey participants?\n"
   ]
  },
  {
   "cell_type": "code",
   "execution_count": 8,
   "metadata": {
    "collapsed": false
   },
   "outputs": [
    {
     "name": "stdout",
     "output_type": "stream",
     "text": [
      "Thanksgiving is happening at my home--I won't travel at all                         281\n",
      "Thanksgiving is local--it will take place in the town I live in                     203\n",
      "Thanksgiving is out of town but not too far--it's a drive of a few hours or less    150\n",
      "Thanksgiving is out of town and far away--I have to drive several hours or fly       55\n",
      "Name: How far will you travel for Thanksgiving?, dtype: int64\n",
      "---\n",
      "Thanksgiving is happening at my home--I won't travel at all                         66\n",
      "Thanksgiving is local--it will take place in the town I live in                     34\n",
      "Thanksgiving is out of town but not too far--it's a drive of a few hours or less    25\n",
      "Thanksgiving is out of town and far away--I have to drive several hours or fly      15\n",
      "Name: How far will you travel for Thanksgiving?, dtype: int64\n"
     ]
    }
   ],
   "source": [
    "travel_low_income = data['How far will you travel for Thanksgiving?'][data['int_income']<150000].value_counts()\n",
    "print(travel_low_income)\n",
    "print('---')\n",
    "travel_high_income = data['How far will you travel for Thanksgiving?'][data['int_income']>=150000].value_counts()\n",
    "print(travel_high_income)"
   ]
  },
  {
   "cell_type": "markdown",
   "metadata": {
    "collapsed": true
   },
   "source": []
  },
  {
   "cell_type": "code",
   "execution_count": 9,
   "metadata": {
    "collapsed": false
   },
   "outputs": [
    {
     "name": "stdout",
     "output_type": "stream",
     "text": [
      "Have you ever attended a \"Friendsgiving?\"                  No        Yes\n",
      "Have you ever tried to meet up with hometown fr...                      \n",
      "No                                                  42.283702  37.010526\n",
      "Yes                                                 41.475410  33.976744\n",
      "Have you ever attended a \"Friendsgiving?\"                     No           Yes\n",
      "Have you ever tried to meet up with hometown fr...                            \n",
      "No                                                  78914.549654  72894.736842\n",
      "Yes                                                 78750.000000  66019.736842\n"
     ]
    }
   ],
   "source": [
    "print(data.pivot_table(index='Have you ever tried to meet up with hometown friends on Thanksgiving night?',columns='Have you ever attended a \"Friendsgiving?\"', values='int_age'))\n",
    "print(data.pivot_table(index='Have you ever tried to meet up with hometown friends on Thanksgiving night?',columns='Have you ever attended a \"Friendsgiving?\"', values='int_income'))"
   ]
  },
  {
   "cell_type": "code",
   "execution_count": null,
   "metadata": {
    "collapsed": true
   },
   "outputs": [],
   "source": []
  }
 ],
 "metadata": {
  "kernelspec": {
   "display_name": "Python 3",
   "language": "python",
   "name": "python3"
  },
  "language_info": {
   "codemirror_mode": {
    "name": "ipython",
    "version": 3
   },
   "file_extension": ".py",
   "mimetype": "text/x-python",
   "name": "python",
   "nbconvert_exporter": "python",
   "pygments_lexer": "ipython3",
   "version": "3.4.3"
  }
 },
 "nbformat": 4,
 "nbformat_minor": 0
}
