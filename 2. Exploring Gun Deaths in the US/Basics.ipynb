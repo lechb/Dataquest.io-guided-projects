{
 "cells": [
  {
   "cell_type": "code",
   "execution_count": 1,
   "metadata": {
    "collapsed": false
   },
   "outputs": [
    {
     "name": "stdout",
     "output_type": "stream",
     "text": [
      "['', 'year', 'month', 'intent', 'police', 'sex', 'age', 'race', 'hispanic', 'place', 'education']\n"
     ]
    }
   ],
   "source": [
    "import csv\n",
    "\n",
    "f = csv.reader(open('guns.csv'))\n",
    "data = list(f)\n",
    "\n",
    "headers = data[0]\n",
    "data= data[1:]\n",
    "\n",
    "print(headers)\n"
   ]
  },
  {
   "cell_type": "code",
   "execution_count": 2,
   "metadata": {
    "collapsed": false
   },
   "outputs": [
    {
     "name": "stdout",
     "output_type": "stream",
     "text": [
      "{'2013': 33636, '2014': 33599, '2012': 33563}\n"
     ]
    }
   ],
   "source": [
    "years = []\n",
    "for row in data:\n",
    "    years.append(row[1])\n",
    "\n",
    "\n",
    "year_counts ={}\n",
    "\n",
    "for row in years:\n",
    "    if row in year_counts:\n",
    "        year_counts[row]+=1\n",
    "    else:\n",
    "        year_counts[row]=1\n",
    "\n",
    "print(year_counts)"
   ]
  },
  {
   "cell_type": "code",
   "execution_count": 3,
   "metadata": {
    "collapsed": false,
    "scrolled": true
   },
   "outputs": [
    {
     "name": "stdout",
     "output_type": "stream",
     "text": [
      "[datetime.datetime(2012, 1, 1, 0, 0), datetime.datetime(2012, 1, 1, 0, 0), datetime.datetime(2012, 1, 1, 0, 0), datetime.datetime(2012, 2, 1, 0, 0), datetime.datetime(2012, 2, 1, 0, 0)]\n",
      "{datetime.datetime(2012, 1, 1, 0, 0): 2758, datetime.datetime(2013, 7, 1, 0, 0): 3079, datetime.datetime(2014, 7, 1, 0, 0): 2884, datetime.datetime(2012, 5, 1, 0, 0): 2999, datetime.datetime(2014, 2, 1, 0, 0): 2361, datetime.datetime(2014, 12, 1, 0, 0): 2857, datetime.datetime(2013, 5, 1, 0, 0): 2806, datetime.datetime(2012, 7, 1, 0, 0): 3026, datetime.datetime(2012, 4, 1, 0, 0): 2795, datetime.datetime(2012, 2, 1, 0, 0): 2357, datetime.datetime(2012, 9, 1, 0, 0): 2852, datetime.datetime(2013, 2, 1, 0, 0): 2375, datetime.datetime(2014, 10, 1, 0, 0): 2865, datetime.datetime(2013, 6, 1, 0, 0): 2920, datetime.datetime(2012, 11, 1, 0, 0): 2729, datetime.datetime(2012, 3, 1, 0, 0): 2743, datetime.datetime(2014, 9, 1, 0, 0): 2914, datetime.datetime(2014, 11, 1, 0, 0): 2756, datetime.datetime(2014, 5, 1, 0, 0): 2864, datetime.datetime(2013, 3, 1, 0, 0): 2862, datetime.datetime(2012, 12, 1, 0, 0): 2791, datetime.datetime(2012, 6, 1, 0, 0): 2826, datetime.datetime(2014, 8, 1, 0, 0): 2970, datetime.datetime(2014, 6, 1, 0, 0): 2931, datetime.datetime(2012, 10, 1, 0, 0): 2733, datetime.datetime(2013, 12, 1, 0, 0): 2765, datetime.datetime(2014, 4, 1, 0, 0): 2862, datetime.datetime(2013, 4, 1, 0, 0): 2798, datetime.datetime(2012, 8, 1, 0, 0): 2954, datetime.datetime(2013, 8, 1, 0, 0): 2859, datetime.datetime(2014, 1, 1, 0, 0): 2651, datetime.datetime(2013, 10, 1, 0, 0): 2808, datetime.datetime(2014, 3, 1, 0, 0): 2684, datetime.datetime(2013, 1, 1, 0, 0): 2864, datetime.datetime(2013, 11, 1, 0, 0): 2758, datetime.datetime(2013, 9, 1, 0, 0): 2742}\n"
     ]
    }
   ],
   "source": [
    "import datetime\n",
    "dates = []\n",
    "for row in data:\n",
    "    dates.append(datetime.datetime(year=int(row[1]), month=int(row[2]),day=1))\n",
    "\n",
    "print(dates[:5])\n",
    "\n",
    "\n",
    "date_counts={}\n",
    "for row in dates:\n",
    "    if row in date_counts:\n",
    "        date_counts[row]+=1\n",
    "    else:\n",
    "        date_counts[row]=1\n",
    "        \n",
    "print(date_counts)"
   ]
  },
  {
   "cell_type": "code",
   "execution_count": 4,
   "metadata": {
    "collapsed": false
   },
   "outputs": [
    {
     "name": "stdout",
     "output_type": "stream",
     "text": [
      "{'F': 14449, 'M': 86349}\n",
      "{'Hispanic': 9022, 'White': 66237, 'Black': 23296, 'Native American/Native Alaskan': 917, 'Asian/Pacific Islander': 1326}\n"
     ]
    }
   ],
   "source": [
    "sex_column = []\n",
    "race_column = []\n",
    "\n",
    "for row in data:\n",
    "    sex_column.append(row[5])\n",
    "    race_column.append(row[7])\n",
    "    \n",
    "    \n",
    "sex_counts = {}\n",
    "race_counts = {}\n",
    "for row in sex_column:\n",
    "    if row in sex_counts:\n",
    "        sex_counts[row]+=1\n",
    "    else:\n",
    "        sex_counts[row]=1\n",
    "    \n",
    "for row in race_column:\n",
    "    if row in race_counts:\n",
    "        race_counts[row]+=1\n",
    "    else:\n",
    "        race_counts[row]=1\n",
    "        \n",
    "        \n",
    "print(sex_counts)\n",
    "print(race_counts)"
   ]
  },
  {
   "cell_type": "markdown",
   "metadata": {},
   "source": [
    "Couple of insights from data above:\n",
    "1. Most victims by sex of gun deaths are male\n",
    "2. Most victims by race of gun deahs are white people followed by 1/3 black people and 1/6th hispanic.\n",
    "\n",
    "For further examination I would recommend checking what kind of gun deaths are most typical for winter and for summer, connecting sex with race and checking precentage ratio on deaths in each race between sex and relation to whole population."
   ]
  },
  {
   "cell_type": "code",
   "execution_count": 5,
   "metadata": {
    "collapsed": false
   },
   "outputs": [
    {
     "name": "stdout",
     "output_type": "stream",
     "text": [
      "['Id', 'Year', 'Id', 'Sex', 'Id', 'Hispanic Origin', 'Id', 'Id2', 'Geography', 'Total', 'Race Alone - White', 'Race Alone - Hispanic', 'Race Alone - Black or African American', 'Race Alone - American Indian and Alaska Native', 'Race Alone - Asian', 'Race Alone - Native Hawaiian and Other Pacific Islander', 'Two or More Races']\n"
     ]
    }
   ],
   "source": [
    "fc= csv.reader(open('census.csv'))\n",
    "census = list(fc)\n",
    "\n",
    "census_header =census[0]\n",
    "census=census[1]\n",
    "print(census_header)"
   ]
  },
  {
   "cell_type": "code",
   "execution_count": 6,
   "metadata": {
    "collapsed": false
   },
   "outputs": [
    {
     "name": "stdout",
     "output_type": "stream",
     "text": [
      "{'Hispanic': 20.220491210910907, 'Asian/Pacific Islander': 8.746980714890115e-06, 'White': 33.56849303419181, 'Black': 57.8773477735196, 'Native American/Native Alaskan': 24.521955573811088}\n"
     ]
    }
   ],
   "source": [
    "mapping = {'Asian/Pacific Islander': census[14]+census[15], 'Black': census[12], 'Native American/Native Alaskan' : census[13], 'Hispanic': census[11], 'White': census[10]}\n",
    "\n",
    "race_per_hundredk = {}\n",
    "\n",
    "for race in race_counts:\n",
    "    race_per_hundredk[race] = int(race_counts[race]) / int(mapping[race]) * 100000\n",
    "    \n",
    "print(race_per_hundredk)\n"
   ]
  },
  {
   "cell_type": "code",
   "execution_count": 12,
   "metadata": {
    "collapsed": false
   },
   "outputs": [
    {
     "name": "stdout",
     "output_type": "stream",
     "text": [
      "{'Hispanic': 12.627161104219914, 'White': 4.6356417981453335, 'Native American/Native Alaskan': 8.717729026240365, 'Black': 48.471284987180944, 'Asian/Pacific Islander': 3.687452654316421e-06}\n"
     ]
    }
   ],
   "source": [
    "intents = []\n",
    "races = []\n",
    "for row in data:\n",
    "    intents.append(row[3])\n",
    "    races.append(row[7])\n",
    "    \n",
    "homicide_race_per_hundredk = {}\n",
    "\n",
    "for i,race in enumerate(races):\n",
    "    if intents[i] == 'Homicide':\n",
    "        if race in homicide_race_per_hundredk:\n",
    "            homicide_race_per_hundredk[race]+=1\n",
    "        else:\n",
    "            homicide_race_per_hundredk[race]=1\n",
    "            \n",
    "for homicide in homicide_race_per_hundredk:\n",
    "    homicide_race_per_hundredk[homicide] = int(homicide_race_per_hundredk[homicide]) / int(mapping[homicide]) * 100000\n",
    "\n",
    "print(homicide_race_per_hundredk)"
   ]
  },
  {
   "cell_type": "markdown",
   "metadata": {
    "collapsed": true
   },
   "source": [
    "The data above presents that most people killed in homicide are from black race per 100k people of that origin. The least one are asia/pacific islander which are very low compare to other races.\n"
   ]
  }
 ],
 "metadata": {
  "anaconda-cloud": {},
  "kernelspec": {
   "display_name": "Python [conda root]",
   "language": "python",
   "name": "conda-root-py"
  },
  "language_info": {
   "codemirror_mode": {
    "name": "ipython",
    "version": 2
   },
   "file_extension": ".py",
   "mimetype": "text/x-python",
   "name": "python",
   "nbconvert_exporter": "python",
   "pygments_lexer": "ipython2",
   "version": "2.7.12"
  }
 },
 "nbformat": 4,
 "nbformat_minor": 0
}
